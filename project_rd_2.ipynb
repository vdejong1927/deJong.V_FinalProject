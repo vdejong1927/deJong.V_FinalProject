{
 "cells": [
  {
   "cell_type": "code",
   "execution_count": 1,
   "id": "63c84680-b7b9-4be6-9200-34672492c9d6",
   "metadata": {},
   "outputs": [],
   "source": [
    "import numpy as np\n",
    "import matplotlib.pyplot as plt\n",
    "import pandas as pd\n",
    "from datetime import datetime\n",
    "from scipy import stats, interpolate\n",
    "import matplotlib.dates as mdates\n",
    "\n",
    "filepath = 'HOT_Bottle_ALOHA.csv'\n",
    "\n",
    "# Datetimes were importing as confusing strings until I found:  \n",
    "# https://www.reddit.com/r/learnpython/comments/743l4g/loading_a_csv_into_a_dataframe_with_a_datetime_as/?rdt=36291\n",
    "aloha = pd.read_csv(filepath, usecols=['time','depth','ph_bottle_hot','SiO4_bottle_hot','psi_bottle_hot'], parse_dates=['time'])"
   ]
  },
  {
   "cell_type": "code",
   "execution_count": 2,
   "id": "7b37e5a9-1816-4c4d-ace0-5697db7bc944",
   "metadata": {
    "tags": []
   },
   "outputs": [],
   "source": [
    "# Set datetime column as index\n",
    "# Struggled to organize daily values so they could be grouped until I parsed dates (above) and found this:\n",
    "# https://www.includehelp.com/python/how-to-set-column-as-date-index.aspx\n",
    "aloha.set_index('time', inplace=True)\n",
    "\n",
    "#display(aloha)"
   ]
  },
  {
   "cell_type": "code",
   "execution_count": null,
   "id": "38662d85-a3bd-4e2f-822c-7e07a1609acd",
   "metadata": {},
   "outputs": [],
   "source": []
  },
  {
   "cell_type": "code",
   "execution_count": 4,
   "id": "ce8f6c98-8e1c-4add-89eb-c4de99ff5177",
   "metadata": {
    "tags": []
   },
   "outputs": [
    {
     "ename": "KeyError",
     "evalue": "'ph_daily_avg'",
     "output_type": "error",
     "traceback": [
      "\u001b[0;31m---------------------------------------------------------------------------\u001b[0m",
      "\u001b[0;31mKeyError\u001b[0m                                  Traceback (most recent call last)",
      "File \u001b[0;32m/opt/conda/lib/python3.10/site-packages/pandas/core/indexes/base.py:3652\u001b[0m, in \u001b[0;36mIndex.get_loc\u001b[0;34m(self, key)\u001b[0m\n\u001b[1;32m   3651\u001b[0m \u001b[38;5;28;01mtry\u001b[39;00m:\n\u001b[0;32m-> 3652\u001b[0m     \u001b[38;5;28;01mreturn\u001b[39;00m \u001b[38;5;28;43mself\u001b[39;49m\u001b[38;5;241;43m.\u001b[39;49m\u001b[43m_engine\u001b[49m\u001b[38;5;241;43m.\u001b[39;49m\u001b[43mget_loc\u001b[49m\u001b[43m(\u001b[49m\u001b[43mcasted_key\u001b[49m\u001b[43m)\u001b[49m\n\u001b[1;32m   3653\u001b[0m \u001b[38;5;28;01mexcept\u001b[39;00m \u001b[38;5;167;01mKeyError\u001b[39;00m \u001b[38;5;28;01mas\u001b[39;00m err:\n",
      "File \u001b[0;32m/opt/conda/lib/python3.10/site-packages/pandas/_libs/index.pyx:147\u001b[0m, in \u001b[0;36mpandas._libs.index.IndexEngine.get_loc\u001b[0;34m()\u001b[0m\n",
      "File \u001b[0;32m/opt/conda/lib/python3.10/site-packages/pandas/_libs/index.pyx:176\u001b[0m, in \u001b[0;36mpandas._libs.index.IndexEngine.get_loc\u001b[0;34m()\u001b[0m\n",
      "File \u001b[0;32mpandas/_libs/hashtable_class_helper.pxi:7080\u001b[0m, in \u001b[0;36mpandas._libs.hashtable.PyObjectHashTable.get_item\u001b[0;34m()\u001b[0m\n",
      "File \u001b[0;32mpandas/_libs/hashtable_class_helper.pxi:7088\u001b[0m, in \u001b[0;36mpandas._libs.hashtable.PyObjectHashTable.get_item\u001b[0;34m()\u001b[0m\n",
      "\u001b[0;31mKeyError\u001b[0m: 'ph_daily_avg'",
      "\nThe above exception was the direct cause of the following exception:\n",
      "\u001b[0;31mKeyError\u001b[0m                                  Traceback (most recent call last)",
      "Cell \u001b[0;32mIn[4], line 24\u001b[0m\n\u001b[1;32m     11\u001b[0m psi_daily_avg \u001b[38;5;241m=\u001b[39m aloha_daily_avg[\u001b[38;5;124m'\u001b[39m\u001b[38;5;124mpsi_bottle_hot\u001b[39m\u001b[38;5;124m'\u001b[39m]\u001b[38;5;241m.\u001b[39mdropna()\n\u001b[1;32m     13\u001b[0m \u001b[38;5;66;03m# # Add daily avgs to dataframe\u001b[39;00m\n\u001b[1;32m     14\u001b[0m \u001b[38;5;66;03m# aloha['ph_daily_avg'] = aloha_daily_avg['ph_bottle_hot']\u001b[39;00m\n\u001b[1;32m     15\u001b[0m \u001b[38;5;66;03m# aloha['sio4_daily_avg'] = aloha_daily_avg['SiO4_bottle_hot']\u001b[39;00m\n\u001b[0;32m   (...)\u001b[0m\n\u001b[1;32m     22\u001b[0m \n\u001b[1;32m     23\u001b[0m \u001b[38;5;66;03m# Find seasonal rolling means (every 3 months) and add to dataframe\u001b[39;00m\n\u001b[0;32m---> 24\u001b[0m ph_season_avg \u001b[38;5;241m=\u001b[39m \u001b[43maloha\u001b[49m\u001b[43m[\u001b[49m\u001b[38;5;124;43m'\u001b[39;49m\u001b[38;5;124;43mph_daily_avg\u001b[39;49m\u001b[38;5;124;43m'\u001b[39;49m\u001b[43m]\u001b[49m\u001b[38;5;241m.\u001b[39mrolling(window\u001b[38;5;241m=\u001b[39m\u001b[38;5;241m90\u001b[39m, min_periods\u001b[38;5;241m=\u001b[39m\u001b[38;5;241m9\u001b[39m, center\u001b[38;5;241m=\u001b[39m\u001b[38;5;28;01mTrue\u001b[39;00m)\u001b[38;5;241m.\u001b[39mmean()\n\u001b[1;32m     25\u001b[0m sio4_season_avg \u001b[38;5;241m=\u001b[39m aloha[\u001b[38;5;124m'\u001b[39m\u001b[38;5;124msio4_daily_avg\u001b[39m\u001b[38;5;124m'\u001b[39m]\u001b[38;5;241m.\u001b[39mrolling(window\u001b[38;5;241m=\u001b[39m\u001b[38;5;241m90\u001b[39m, min_periods\u001b[38;5;241m=\u001b[39m\u001b[38;5;241m9\u001b[39m, center\u001b[38;5;241m=\u001b[39m\u001b[38;5;28;01mTrue\u001b[39;00m)\u001b[38;5;241m.\u001b[39mmean()\n\u001b[1;32m     26\u001b[0m psi_season_avg \u001b[38;5;241m=\u001b[39m aloha[\u001b[38;5;124m'\u001b[39m\u001b[38;5;124mpsi_daily_avg\u001b[39m\u001b[38;5;124m'\u001b[39m]\u001b[38;5;241m.\u001b[39mrolling(window\u001b[38;5;241m=\u001b[39m\u001b[38;5;241m90\u001b[39m, min_periods\u001b[38;5;241m=\u001b[39m\u001b[38;5;241m9\u001b[39m, center\u001b[38;5;241m=\u001b[39m\u001b[38;5;28;01mTrue\u001b[39;00m)\u001b[38;5;241m.\u001b[39mmean()\n",
      "File \u001b[0;32m/opt/conda/lib/python3.10/site-packages/pandas/core/frame.py:3760\u001b[0m, in \u001b[0;36mDataFrame.__getitem__\u001b[0;34m(self, key)\u001b[0m\n\u001b[1;32m   3758\u001b[0m \u001b[38;5;28;01mif\u001b[39;00m \u001b[38;5;28mself\u001b[39m\u001b[38;5;241m.\u001b[39mcolumns\u001b[38;5;241m.\u001b[39mnlevels \u001b[38;5;241m>\u001b[39m \u001b[38;5;241m1\u001b[39m:\n\u001b[1;32m   3759\u001b[0m     \u001b[38;5;28;01mreturn\u001b[39;00m \u001b[38;5;28mself\u001b[39m\u001b[38;5;241m.\u001b[39m_getitem_multilevel(key)\n\u001b[0;32m-> 3760\u001b[0m indexer \u001b[38;5;241m=\u001b[39m \u001b[38;5;28;43mself\u001b[39;49m\u001b[38;5;241;43m.\u001b[39;49m\u001b[43mcolumns\u001b[49m\u001b[38;5;241;43m.\u001b[39;49m\u001b[43mget_loc\u001b[49m\u001b[43m(\u001b[49m\u001b[43mkey\u001b[49m\u001b[43m)\u001b[49m\n\u001b[1;32m   3761\u001b[0m \u001b[38;5;28;01mif\u001b[39;00m is_integer(indexer):\n\u001b[1;32m   3762\u001b[0m     indexer \u001b[38;5;241m=\u001b[39m [indexer]\n",
      "File \u001b[0;32m/opt/conda/lib/python3.10/site-packages/pandas/core/indexes/base.py:3654\u001b[0m, in \u001b[0;36mIndex.get_loc\u001b[0;34m(self, key)\u001b[0m\n\u001b[1;32m   3652\u001b[0m     \u001b[38;5;28;01mreturn\u001b[39;00m \u001b[38;5;28mself\u001b[39m\u001b[38;5;241m.\u001b[39m_engine\u001b[38;5;241m.\u001b[39mget_loc(casted_key)\n\u001b[1;32m   3653\u001b[0m \u001b[38;5;28;01mexcept\u001b[39;00m \u001b[38;5;167;01mKeyError\u001b[39;00m \u001b[38;5;28;01mas\u001b[39;00m err:\n\u001b[0;32m-> 3654\u001b[0m     \u001b[38;5;28;01mraise\u001b[39;00m \u001b[38;5;167;01mKeyError\u001b[39;00m(key) \u001b[38;5;28;01mfrom\u001b[39;00m \u001b[38;5;21;01merr\u001b[39;00m\n\u001b[1;32m   3655\u001b[0m \u001b[38;5;28;01mexcept\u001b[39;00m \u001b[38;5;167;01mTypeError\u001b[39;00m:\n\u001b[1;32m   3656\u001b[0m     \u001b[38;5;66;03m# If we have a listlike key, _check_indexing_error will raise\u001b[39;00m\n\u001b[1;32m   3657\u001b[0m     \u001b[38;5;66;03m#  InvalidIndexError. Otherwise we fall through and re-raise\u001b[39;00m\n\u001b[1;32m   3658\u001b[0m     \u001b[38;5;66;03m#  the TypeError.\u001b[39;00m\n\u001b[1;32m   3659\u001b[0m     \u001b[38;5;28mself\u001b[39m\u001b[38;5;241m.\u001b[39m_check_indexing_error(key)\n",
      "\u001b[0;31mKeyError\u001b[0m: 'ph_daily_avg'"
     ]
    }
   ],
   "source": [
    "# Subset data for surface ocean only \n",
    "aloha_100 = aloha[(aloha.depth <100)]\n",
    "\n",
    "# Average data by day\n",
    "aloha_daily_avg = aloha_100.groupby('time').mean(numeric_only=True)\n",
    "\n",
    "# Drop NaN values and make new dataframes w/ index and each variable\n",
    "#new = old[['A','C','D']]\n",
    "ph_daily_avg = aloha_daily_avg['ph_bottle_hot'].dropna()\n",
    "sio4_daily_avg = aloha_daily_avg['SiO4_bottle_hot'].dropna()\n",
    "psi_daily_avg = aloha_daily_avg['psi_bottle_hot'].dropna()\n",
    "\n",
    "# # Add daily avgs to dataframe\n",
    "# aloha['ph_daily_avg'] = aloha_daily_avg['ph_bottle_hot']\n",
    "# aloha['sio4_daily_avg'] = aloha_daily_avg['SiO4_bottle_hot']\n",
    "# aloha['psi_daily_avg'] = aloha_daily_avg['psi_bottle_hot']\n",
    "\n",
    "# # Find monthly rolling means and add to dataframe\n",
    "# aloha['ph_monthly_avg'] = aloha['ph_daily_avg'].rolling(window=30, min_periods=3, center=True).mean()\n",
    "# aloha['sio4_monthly_avg'] = aloha['sio4_daily_avg'].rolling(window=30, min_periods=3, center=True).mean()\n",
    "# aloha['psi_monthly_avg'] = aloha['psi_daily_avg'].rolling(window=30, min_periods=3, center=True).mean()\n",
    "\n",
    "# Find seasonal rolling means (every 3 months) and add to dataframe\n",
    "ph_season_avg = aloha['ph_daily_avg'].rolling(window=90, min_periods=9, center=True).mean()\n",
    "sio4_season_avg = aloha['sio4_daily_avg'].rolling(window=90, min_periods=9, center=True).mean()\n",
    "psi_season_avg = aloha['psi_daily_avg'].rolling(window=90, min_periods=9, center=True).mean()\n",
    "\n",
    "display(aloha)"
   ]
  },
  {
   "cell_type": "code",
   "execution_count": null,
   "id": "1cd736f7-1dbb-4ac0-81f3-91facd3760b5",
   "metadata": {
    "tags": []
   },
   "outputs": [],
   "source": []
  },
  {
   "cell_type": "code",
   "execution_count": null,
   "id": "64b28cf3-47bc-4ed1-b7b2-84d0b4efe461",
   "metadata": {
    "tags": []
   },
   "outputs": [],
   "source": []
  },
  {
   "cell_type": "code",
   "execution_count": null,
   "id": "72a9dede-1672-4d06-b960-d66d97941817",
   "metadata": {
    "tags": []
   },
   "outputs": [],
   "source": [
    "# Plot Rolling Monthly Average shared plots\n",
    "fig, axs = plt.subplots(figsize=(20,8), nrows=3, sharex=True)\n",
    "plt.suptitle(\"Rolling Seasonal Averages\")\n",
    "\n",
    "# pH and Silicate\n",
    "# Plot pH\n",
    "ph_0 = axs[0].plot(aloha_ph.index.values, aloha_ph.values, marker='.', c='turquoise', label='pH')\n",
    "# Plot Silicate\n",
    "twinx0 = axs[0].twinx()\n",
    "sio4_0 = twinx0.plot(aloha_sio4.index.values, aloha_sio4.values, marker='.', c='magenta', label='Silicate')\n",
    "axs[0].legend()\n",
    "# Share legend: https://stackoverflow.com/questions/5484922/secondary-axis-with-twinx-how-to-add-to-legend\n",
    "lines = ph_0 + sio4_0\n",
    "labels = [l.get_label() for l in lines]\n",
    "axs[0].legend(lines, labels, loc=0)\n",
    "\n",
    "\n",
    "# pH and Silica\n",
    "# Plot pH\n",
    "ph_1 = axs[1].plot(aloha_ph.index.values, aloha_ph.values, marker='.', c='turquoise', label='pH')\n",
    "# Plot Silica\n",
    "twinx1 = axs[1].twinx()\n",
    "psi_1 = twinx1.plot(aloha_sio4.index.values, aloha_sio4.values, marker='.', c='orange', label='Silica')\n",
    "axs[1].legend()\n",
    "# Share legend\n",
    "lines = ph_1 + psi_1\n",
    "labels = [l.get_label() for l in lines]\n",
    "axs[1].legend(lines, labels, loc=0)\n",
    "\n",
    "# Silicate and Silica\n",
    "# Plot silicate\n",
    "sio4_2 = axs[2].plot(aloha_sio4.index.values, aloha_sio4.values, marker='.', c='magenta', label='Silicate')\n",
    "# Plot Silica\n",
    "twinx2 = axs[2].twinx()\n",
    "psi_2 = twinx2.plot(aloha_psi.index.values, aloha_psi.values, marker='.', c='orange', label='Silica')\n",
    "axs[2].legend()\n",
    "# Share legend\n",
    "lines = sio4_2 + psi_2\n",
    "labels = [l.get_label() for l in lines]\n",
    "axs[2].legend(lines, labels, loc=0)"
   ]
  },
  {
   "cell_type": "code",
   "execution_count": null,
   "id": "4612d4d6-43f1-4ee0-b80b-cd7bca4c8dbf",
   "metadata": {},
   "outputs": [],
   "source": [
    "# Find non-Nan values for plotting\n",
    "\n",
    "ph_inds = np.where(aloha['ph_season_avg'].notnull())\n",
    "sio4_inds = np.where(aloha['sio4_season_avg'].notnull())\n",
    "psi_inds = np.where(aloha['psi_season_avg'].notnull())\n",
    "display(ph_inds)\n",
    "display(sio4_inds)\n",
    "display(psi_inds)"
   ]
  }
 ],
 "metadata": {
  "kernelspec": {
   "display_name": "Python 3 (ipykernel)",
   "language": "python",
   "name": "python3"
  },
  "language_info": {
   "codemirror_mode": {
    "name": "ipython",
    "version": 3
   },
   "file_extension": ".py",
   "mimetype": "text/x-python",
   "name": "python",
   "nbconvert_exporter": "python",
   "pygments_lexer": "ipython3",
   "version": "3.10.10"
  }
 },
 "nbformat": 4,
 "nbformat_minor": 5
}
